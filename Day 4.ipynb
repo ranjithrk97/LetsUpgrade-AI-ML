{
 "cells": [
  {
   "cell_type": "markdown",
   "metadata": {},
   "source": [
    "## 1.Research on complex number"
   ]
  },
  {
   "cell_type": "code",
   "execution_count": 2,
   "metadata": {},
   "outputs": [
    {
     "name": "stdout",
     "output_type": "stream",
     "text": [
      "addition of two complex number is  (5+2j)\n",
      "subtraction of two complex number is  (-1+6j)\n",
      "multiplication of two complex number is  (14+8j)\n",
      "division of two complex number is  (-0.15384615384615383+1.2307692307692308j)\n"
     ]
    }
   ],
   "source": [
    "a=2+4j\n",
    "b=3-2j\n",
    "print(\"addition of two complex number is \",a+b)\n",
    "print(\"subtraction of two complex number is \",a-b)\n",
    "print(\"multiplication of two complex number is \",a*b)\n",
    "print(\"division of two complex number is \",a/b)"
   ]
  },
  {
   "cell_type": "markdown",
   "metadata": {},
   "source": [
    "## 2.Research on range() function"
   ]
  },
  {
   "cell_type": "markdown",
   "metadata": {},
   "source": [
    "**The range() function returns a sequence of numbers, starting from 0 by default, and increments by 1 (by default), and stops before a specified number**\n",
    "#### syntax is range(start,end,step)\n",
    "##### start is optional where the value is going to start\n",
    "##### end is required where it going to stop\n",
    "##### step is optional where it spesifies the incrementation "
   ]
  },
  {
   "cell_type": "code",
   "execution_count": 17,
   "metadata": {},
   "outputs": [
    {
     "name": "stdout",
     "output_type": "stream",
     "text": [
      "2\n",
      "4\n",
      "6\n",
      "8\n",
      "10\n",
      "12\n",
      "14\n",
      "16\n",
      "18\n"
     ]
    }
   ],
   "source": [
    "a=range(2,20,2)\n",
    "for i in a:\n",
    "    print(i)"
   ]
  },
  {
   "cell_type": "code",
   "execution_count": 18,
   "metadata": {},
   "outputs": [
    {
     "name": "stdout",
     "output_type": "stream",
     "text": [
      "0\n",
      "1\n",
      "2\n",
      "3\n",
      "4\n",
      "5\n",
      "6\n",
      "7\n",
      "8\n",
      "9\n"
     ]
    }
   ],
   "source": [
    "b=range(10)\n",
    "for j in b:\n",
    "    print(j)"
   ]
  },
  {
   "cell_type": "markdown",
   "metadata": {},
   "source": [
    "## 3.if else"
   ]
  },
  {
   "cell_type": "code",
   "execution_count": 19,
   "metadata": {},
   "outputs": [
    {
     "name": "stdout",
     "output_type": "stream",
     "text": [
      "division value is  7.0\n"
     ]
    }
   ],
   "source": [
    "a=21\n",
    "b=3\n",
    "if (a-b)>25:\n",
    "    print(\"multiplication value is \",a*b)\n",
    "else:\n",
    "    print(\"division value is \",a/b)"
   ]
  },
  {
   "cell_type": "markdown",
   "metadata": {},
   "source": [
    "## for"
   ]
  },
  {
   "cell_type": "code",
   "execution_count": 20,
   "metadata": {},
   "outputs": [
    {
     "name": "stdout",
     "output_type": "stream",
     "text": [
      "result is  398\n",
      "result is  482\n",
      "result is  574\n",
      "result is  674\n",
      "result is  782\n"
     ]
    }
   ],
   "source": [
    "a=[20,21,22,23,24,25,26,27,28,29]\n",
    "for i in a:\n",
    "    if i%2==0:\n",
    "        print(\"result is \",(i**2)-2)"
   ]
  },
  {
   "cell_type": "markdown",
   "metadata": {},
   "source": [
    "## Question 5"
   ]
  },
  {
   "cell_type": "code",
   "execution_count": 21,
   "metadata": {},
   "outputs": [
    {
     "name": "stdout",
     "output_type": "stream",
     "text": [
      "16\n",
      "20\n",
      "24\n",
      "28\n",
      "32\n",
      "36\n",
      "40\n"
     ]
    }
   ],
   "source": [
    "b=[4,8,12,16,20,24,28,32,36,40]\n",
    "for i in b:\n",
    "    if (i/2)>7:\n",
    "        print(i)"
   ]
  }
 ],
 "metadata": {
  "kernelspec": {
   "display_name": "Python 3",
   "language": "python",
   "name": "python3"
  },
  "language_info": {
   "codemirror_mode": {
    "name": "ipython",
    "version": 3
   },
   "file_extension": ".py",
   "mimetype": "text/x-python",
   "name": "python",
   "nbconvert_exporter": "python",
   "pygments_lexer": "ipython3",
   "version": "3.6.3"
  }
 },
 "nbformat": 4,
 "nbformat_minor": 4
}
